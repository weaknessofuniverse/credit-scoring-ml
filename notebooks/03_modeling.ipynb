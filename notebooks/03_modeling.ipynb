{
 "cells": [
  {
   "cell_type": "code",
   "execution_count": 1,
   "metadata": {},
   "outputs": [],
   "source": [
    "import pandas as pd\n",
    "\n",
    "import sys\n",
    "sys.path.append('..')  # Add parent directory to path\n",
    "from model_pipeline import CreditScoringPipeline\n",
    "import results_viewer as rv"
   ]
  },
  {
   "cell_type": "markdown",
   "metadata": {},
   "source": [
    "# 1. Load Processed Data"
   ]
  },
  {
   "cell_type": "code",
   "execution_count": 7,
   "metadata": {},
   "outputs": [
    {
     "name": "stdout",
     "output_type": "stream",
     "text": [
      "Training set shape: (149986, 25)\n",
      "Validation set shape: (29998, 25)\n",
      "Test set shape: (101503, 25)\n"
     ]
    }
   ],
   "source": [
    "train_df = pd.read_csv('../data/processed/train_processed.csv')\n",
    "val_df = pd.read_csv('../data/processed/val_processed.csv')\n",
    "test_df = pd.read_csv('../data/processed/test_processed.csv')\n",
    "\n",
    "print(f\"Training set shape: {train_df.shape}\")\n",
    "print(f\"Validation set shape: {val_df.shape}\")\n",
    "print(f\"Test set shape: {test_df.shape}\")"
   ]
  },
  {
   "cell_type": "markdown",
   "metadata": {},
   "source": [
    "# 2. Prepare Features and Target"
   ]
  },
  {
   "cell_type": "code",
   "execution_count": 8,
   "metadata": {},
   "outputs": [
    {
     "name": "stdout",
     "output_type": "stream",
     "text": [
      "X_train: (179984, 24), y_train: (179984,)\n",
      "X_test: (101503, 25)\n"
     ]
    }
   ],
   "source": [
    "X_train = train_df.drop('SeriousDlqin2yrs', axis=1)\n",
    "y_train = train_df['SeriousDlqin2yrs']\n",
    "\n",
    "X_val = val_df.drop('SeriousDlqin2yrs', axis=1)\n",
    "y_val = val_df['SeriousDlqin2yrs']\n",
    "\n",
    "# For test set, we don't have the target variable\n",
    "X_test = test_df\n",
    "\n",
    "# Combine train and val for final training\n",
    "X_train = pd.concat([X_train, X_val])\n",
    "y_train = pd.concat([y_train, y_val])\n",
    "\n",
    "print(f\"X_train: {X_train.shape}, y_train: {y_train.shape}\")\n",
    "print(f\"X_test: {X_test.shape}\")"
   ]
  },
  {
   "cell_type": "markdown",
   "metadata": {},
   "source": [
    "# 3. Quick scan on a sample (fast)"
   ]
  },
  {
   "cell_type": "code",
   "execution_count": 9,
   "metadata": {},
   "outputs": [],
   "source": [
    "X_train2 = X_train.reset_index(drop=True)\n",
    "y_train2 = y_train.reset_index(drop=True)\n",
    "\n",
    "pipe = CreditScoringPipeline(speed_mode='fast', run_both_smote_by_default=False, default_n_jobs=-1)\n",
    "models_to_check = list(pipe.get_available_models().keys())"
   ]
  },
  {
   "cell_type": "code",
   "execution_count": 11,
   "metadata": {},
   "outputs": [
    {
     "name": "stdout",
     "output_type": "stream",
     "text": [
      "[INFO] Sampling train: frac=0.3\n",
      "[INFO] Training model 'LogisticRegression' | speed_mode=fast | search_method=random\n",
      "[RUN] LogisticRegression / no_smote | n_iter=4 | cv=3 | use_smote=False\n",
      "Fitting 3 folds for each of 1 candidates, totalling 3 fits\n",
      "[DONE] LogisticRegression/no_smote | CV AUC=0.8527 | best_params={'logisticregression__solver': 'liblinear', 'logisticregression__penalty': 'l1', 'logisticregression__C': 0.01}\n",
      "[INFO] Sampling train: frac=0.3\n",
      "[INFO] Training model 'RandomForest' | speed_mode=fast | search_method=random\n",
      "[RUN] RandomForest / no_smote | n_iter=7 | cv=3 | use_smote=False\n",
      "Fitting 3 folds for each of 1 candidates, totalling 3 fits\n",
      "[DONE] RandomForest/no_smote | CV AUC=0.8522 | best_params={'randomforestclassifier__n_estimators': 100, 'randomforestclassifier__min_samples_split': 2, 'randomforestclassifier__max_depth': 5}\n",
      "[INFO] Sampling train: frac=0.3\n",
      "[INFO] Training model 'HistGradientBoosting' | speed_mode=fast | search_method=random\n",
      "[RUN] HistGradientBoosting / no_smote | n_iter=7 | cv=3 | use_smote=False\n",
      "Fitting 3 folds for each of 1 candidates, totalling 3 fits\n",
      "[DONE] HistGradientBoosting/no_smote | CV AUC=0.8603 | best_params={'histgradientboostingclassifier__max_iter': 100, 'histgradientboostingclassifier__max_depth': 3, 'histgradientboostingclassifier__learning_rate': 0.05}\n",
      "[INFO] Sampling train: frac=0.3\n",
      "[INFO] Training model 'GradientBoosting' | speed_mode=fast | search_method=random\n",
      "[RUN] GradientBoosting / no_smote | n_iter=7 | cv=3 | use_smote=False\n",
      "Fitting 3 folds for each of 1 candidates, totalling 3 fits\n",
      "[DONE] GradientBoosting/no_smote | CV AUC=0.8581 | best_params={'gradientboostingclassifier__n_estimators': 100, 'gradientboostingclassifier__max_depth': 3, 'gradientboostingclassifier__learning_rate': 0.05}\n",
      "[INFO] Sampling train: frac=0.3\n",
      "[INFO] Training model 'SVM' | speed_mode=fast | search_method=random\n",
      "[RUN] SVM / no_smote | n_iter=4 | cv=3 | use_smote=False\n",
      "Fitting 3 folds for each of 1 candidates, totalling 3 fits\n",
      "[DONE] SVM/no_smote | CV AUC=0.8135 | best_params={'linearsvc__C': 0.01}\n",
      "[INFO] Sampling train: frac=0.3\n",
      "[INFO] Training model 'Bagging' | speed_mode=fast | search_method=random\n",
      "[RUN] Bagging / no_smote | n_iter=4 | cv=3 | use_smote=False\n",
      "Fitting 3 folds for each of 1 candidates, totalling 3 fits\n",
      "[DONE] Bagging/no_smote | CV AUC=0.7863 | best_params={'baggingclassifier__n_estimators': 10, 'baggingclassifier__max_samples': 0.5, 'baggingclassifier__max_features': 0.5}\n",
      "[INFO] Sampling train: frac=0.3\n",
      "[INFO] Training model 'KNN' | speed_mode=fast | search_method=random\n",
      "[RUN] KNN / no_smote | n_iter=4 | cv=3 | use_smote=False\n",
      "Fitting 3 folds for each of 1 candidates, totalling 3 fits\n",
      "[DONE] KNN/no_smote | CV AUC=0.5616 | best_params={'kneighborsclassifier__weights': 'uniform', 'kneighborsclassifier__p': 1, 'kneighborsclassifier__n_neighbors': 3}\n"
     ]
    },
    {
     "data": {
      "text/plain": [
       "{'LogisticRegression': {'no_smote': {'best_estimator': Pipeline(steps=[('logisticregression',\n",
       "                    LogisticRegression(C=0.01, class_weight='balanced',\n",
       "                                       max_iter=2000, penalty='l1',\n",
       "                                       random_state=42, solver='liblinear'))]),\n",
       "   'best_params': {'logisticregression__solver': 'liblinear',\n",
       "    'logisticregression__penalty': 'l1',\n",
       "    'logisticregression__C': 0.01},\n",
       "   'cv_score': np.float64(0.8527295536782643),\n",
       "   'search': RandomizedSearchCV(cv=3,\n",
       "                      estimator=Pipeline(steps=[('logisticregression',\n",
       "                                                 LogisticRegression(class_weight='balanced',\n",
       "                                                                    max_iter=2000,\n",
       "                                                                    random_state=42))]),\n",
       "                      n_iter=4, n_jobs=-1,\n",
       "                      param_distributions={'logisticregression__C': [0.01],\n",
       "                                           'logisticregression__penalty': ['l1'],\n",
       "                                           'logisticregression__solver': ['liblinear']},\n",
       "                      random_state=42, scoring='roc_auc', verbose=1),\n",
       "   'metadata': {'use_smote': False,\n",
       "    'sample_frac': 0.3,\n",
       "    'speed_mode': 'fast'}}},\n",
       " 'RandomForest': {'no_smote': {'best_estimator': Pipeline(steps=[('randomforestclassifier',\n",
       "                    RandomForestClassifier(class_weight='balanced', max_depth=5,\n",
       "                                           n_jobs=1, random_state=42))]),\n",
       "   'best_params': {'randomforestclassifier__n_estimators': 100,\n",
       "    'randomforestclassifier__min_samples_split': 2,\n",
       "    'randomforestclassifier__max_depth': 5},\n",
       "   'cv_score': np.float64(0.8521842722968942),\n",
       "   'search': RandomizedSearchCV(cv=3,\n",
       "                      estimator=Pipeline(steps=[('randomforestclassifier',\n",
       "                                                 RandomForestClassifier(class_weight='balanced',\n",
       "                                                                        n_jobs=1,\n",
       "                                                                        random_state=42))]),\n",
       "                      n_iter=7, n_jobs=-1,\n",
       "                      param_distributions={'randomforestclassifier__max_depth': [5],\n",
       "                                           'randomforestclassifier__min_samples_split': [2],\n",
       "                                           'randomforestclassifier__n_estimators': [100]},\n",
       "                      random_state=42, scoring='roc_auc', verbose=1),\n",
       "   'metadata': {'use_smote': False,\n",
       "    'sample_frac': 0.3,\n",
       "    'speed_mode': 'fast'}}},\n",
       " 'HistGradientBoosting': {'no_smote': {'best_estimator': Pipeline(steps=[('histgradientboostingclassifier',\n",
       "                    HistGradientBoostingClassifier(learning_rate=0.05, max_depth=3,\n",
       "                                                   random_state=42))]),\n",
       "   'best_params': {'histgradientboostingclassifier__max_iter': 100,\n",
       "    'histgradientboostingclassifier__max_depth': 3,\n",
       "    'histgradientboostingclassifier__learning_rate': 0.05},\n",
       "   'cv_score': np.float64(0.8603396235293834),\n",
       "   'search': RandomizedSearchCV(cv=3,\n",
       "                      estimator=Pipeline(steps=[('histgradientboostingclassifier',\n",
       "                                                 HistGradientBoostingClassifier(random_state=42))]),\n",
       "                      n_iter=7, n_jobs=-1,\n",
       "                      param_distributions={'histgradientboostingclassifier__learning_rate': [0.05],\n",
       "                                           'histgradientboostingclassifier__max_depth': [3],\n",
       "                                           'histgradientboostingclassifier__max_iter': [100]},\n",
       "                      random_state=42, scoring='roc_auc', verbose=1),\n",
       "   'metadata': {'use_smote': False,\n",
       "    'sample_frac': 0.3,\n",
       "    'speed_mode': 'fast'}}},\n",
       " 'GradientBoosting': {'no_smote': {'best_estimator': Pipeline(steps=[('gradientboostingclassifier',\n",
       "                    GradientBoostingClassifier(learning_rate=0.05,\n",
       "                                               random_state=42))]),\n",
       "   'best_params': {'gradientboostingclassifier__n_estimators': 100,\n",
       "    'gradientboostingclassifier__max_depth': 3,\n",
       "    'gradientboostingclassifier__learning_rate': 0.05},\n",
       "   'cv_score': np.float64(0.8580697688803282),\n",
       "   'search': RandomizedSearchCV(cv=3,\n",
       "                      estimator=Pipeline(steps=[('gradientboostingclassifier',\n",
       "                                                 GradientBoostingClassifier(random_state=42))]),\n",
       "                      n_iter=7, n_jobs=-1,\n",
       "                      param_distributions={'gradientboostingclassifier__learning_rate': [0.05],\n",
       "                                           'gradientboostingclassifier__max_depth': [3],\n",
       "                                           'gradientboostingclassifier__n_estimators': [100]},\n",
       "                      random_state=42, scoring='roc_auc', verbose=1),\n",
       "   'metadata': {'use_smote': False,\n",
       "    'sample_frac': 0.3,\n",
       "    'speed_mode': 'fast'}}},\n",
       " 'SVM': {'no_smote': {'best_estimator': Pipeline(steps=[('linearsvc',\n",
       "                    LinearSVC(C=0.01, class_weight='balanced', dual=False,\n",
       "                              max_iter=5000, random_state=42))]),\n",
       "   'best_params': {'linearsvc__C': 0.01},\n",
       "   'cv_score': np.float64(0.8134916293338345),\n",
       "   'search': RandomizedSearchCV(cv=3,\n",
       "                      estimator=Pipeline(steps=[('linearsvc',\n",
       "                                                 LinearSVC(class_weight='balanced',\n",
       "                                                           dual=False,\n",
       "                                                           max_iter=5000,\n",
       "                                                           random_state=42))]),\n",
       "                      n_iter=4, n_jobs=-1,\n",
       "                      param_distributions={'linearsvc__C': [0.01]},\n",
       "                      random_state=42, scoring='roc_auc', verbose=1),\n",
       "   'metadata': {'use_smote': False,\n",
       "    'sample_frac': 0.3,\n",
       "    'speed_mode': 'fast'}}},\n",
       " 'Bagging': {'no_smote': {'best_estimator': Pipeline(steps=[('baggingclassifier',\n",
       "                    BaggingClassifier(max_features=0.5, max_samples=0.5,\n",
       "                                      random_state=42))]),\n",
       "   'best_params': {'baggingclassifier__n_estimators': 10,\n",
       "    'baggingclassifier__max_samples': 0.5,\n",
       "    'baggingclassifier__max_features': 0.5},\n",
       "   'cv_score': np.float64(0.7862599438678014),\n",
       "   'search': RandomizedSearchCV(cv=3,\n",
       "                      estimator=Pipeline(steps=[('baggingclassifier',\n",
       "                                                 BaggingClassifier(random_state=42))]),\n",
       "                      n_iter=4, n_jobs=-1,\n",
       "                      param_distributions={'baggingclassifier__max_features': [0.5],\n",
       "                                           'baggingclassifier__max_samples': [0.5],\n",
       "                                           'baggingclassifier__n_estimators': [10]},\n",
       "                      random_state=42, scoring='roc_auc', verbose=1),\n",
       "   'metadata': {'use_smote': False,\n",
       "    'sample_frac': 0.3,\n",
       "    'speed_mode': 'fast'}}},\n",
       " 'KNN': {'no_smote': {'best_estimator': Pipeline(steps=[('kneighborsclassifier',\n",
       "                    KNeighborsClassifier(n_neighbors=3, p=1))]),\n",
       "   'best_params': {'kneighborsclassifier__weights': 'uniform',\n",
       "    'kneighborsclassifier__p': 1,\n",
       "    'kneighborsclassifier__n_neighbors': 3},\n",
       "   'cv_score': np.float64(0.5616231916118452),\n",
       "   'search': RandomizedSearchCV(cv=3,\n",
       "                      estimator=Pipeline(steps=[('kneighborsclassifier',\n",
       "                                                 KNeighborsClassifier())]),\n",
       "                      n_iter=4, n_jobs=-1,\n",
       "                      param_distributions={'kneighborsclassifier__n_neighbors': [3],\n",
       "                                           'kneighborsclassifier__p': [1],\n",
       "                                           'kneighborsclassifier__weights': ['uniform']},\n",
       "                      random_state=42, scoring='roc_auc', verbose=1),\n",
       "   'metadata': {'use_smote': False,\n",
       "    'sample_frac': 0.3,\n",
       "    'speed_mode': 'fast'}}}}"
      ]
     },
     "execution_count": 11,
     "metadata": {},
     "output_type": "execute_result"
    }
   ],
   "source": [
    "pipe.train_all(\n",
    "    X_train=X_train2,\n",
    "    y_train=y_train2,\n",
    "    model_names=models_to_check,\n",
    "    run_modes=('no_smote',),\n",
    "    sample_frac=0.3\n",
    ")"
   ]
  },
  {
   "cell_type": "markdown",
   "metadata": {},
   "source": [
    "### See results and plot"
   ]
  },
  {
   "cell_type": "code",
   "execution_count": null,
   "metadata": {},
   "outputs": [
    {
     "name": "stdout",
     "output_type": "stream",
     "text": [
      "\n",
      "===== All models summary =====\n",
      "\n",
      "               model      run   cv_auc                                                                                                                                              best_params  use_smote  sample_frac speed_mode\n",
      "HistGradientBoosting no_smote 0.860340 {'histgradientboostingclassifier__max_iter': 100, 'histgradientboostingclassifier__max_depth': 3, 'histgradientboostingclassifier__learning_rate': 0.05}      False          0.3       fast\n",
      "    GradientBoosting no_smote 0.858070         {'gradientboostingclassifier__n_estimators': 100, 'gradientboostingclassifier__max_depth': 3, 'gradientboostingclassifier__learning_rate': 0.05}      False          0.3       fast\n",
      "  LogisticRegression no_smote 0.852730                                          {'logisticregression__solver': 'liblinear', 'logisticregression__penalty': 'l1', 'logisticregression__C': 0.01}      False          0.3       fast\n",
      "        RandomForest no_smote 0.852184                    {'randomforestclassifier__n_estimators': 100, 'randomforestclassifier__min_samples_split': 2, 'randomforestclassifier__max_depth': 5}      False          0.3       fast\n",
      "                 SVM no_smote 0.813492                                                                                                                                   {'linearsvc__C': 0.01}      False          0.3       fast\n",
      "             Bagging no_smote 0.786260                                   {'baggingclassifier__n_estimators': 10, 'baggingclassifier__max_samples': 0.5, 'baggingclassifier__max_features': 0.5}      False          0.3       fast\n",
      "                 KNN no_smote 0.561623                                       {'kneighborsclassifier__weights': 'uniform', 'kneighborsclassifier__p': 1, 'kneighborsclassifier__n_neighbors': 3}      False          0.3       fast\n",
      "\n",
      "\n",
      "Saved summary CSV to: models/quick_scan_summary.csv\n"
     ]
    },
    {
     "data": {
      "text/plain": [
       "<Figure size 1000x600 with 0 Axes>"
      ]
     },
     "metadata": {},
     "output_type": "display_data"
    },
    {
     "data": {
      "image/png": "[encoded data removed]",
      "text/plain": [
       "<Figure size 1000x600 with 1 Axes>"
      ]
     },
     "metadata": {},
     "output_type": "display_data"
    },
    {
     "name": "stdout",
     "output_type": "stream",
     "text": [
      "Saved CV AUC barplot to: models/cv_auc_by_model.png\n"
     ]
    },
    {
     "data": {
      "text/plain": [
       "'models/cv_auc_by_model.png'"
      ]
     },
     "execution_count": 8,
     "metadata": {},
     "output_type": "execute_result"
    }
   ],
   "source": [
    "# Print full table sorted by cv_auc (descending)\n",
    "df_scan = rv.render_all_models_report(pipe, sort_by='cv_auc', ascending=False, print_table=True)\n",
    "\n",
    "# Save CSV and barplot for visual comparison\n",
    "rv.save_summary_csv(pipe, \"models/quick_scan_summary.csv\")\n",
    "rv.plot_cv_auc_bar(pipe, save_dir=\"models\")"
   ]
  },
  {
   "cell_type": "markdown",
   "metadata": {},
   "source": [
    "## 4. Choose top-4 and run refinement (balanced, full train, compare SMOTE)"
   ]
  },
  {
   "cell_type": "code",
   "execution_count": null,
   "metadata": {},
   "outputs": [
    {
     "name": "stdout",
     "output_type": "stream",
     "text": [
      "Top models (quick scan): ['HistGradientBoosting', 'GradientBoosting', 'LogisticRegression', 'RandomForest']\n",
      "[INFO] Training model 'HistGradientBoosting' | speed_mode=balanced | search_method=random\n",
      "[RUN] HistGradientBoosting / no_smote | n_iter=12 | cv=3 | use_smote=False\n",
      "Fitting 3 folds for each of 8 candidates, totalling 24 fits\n",
      "[DONE] HistGradientBoosting/no_smote | CV AUC=0.8710 | best_params={'histgradientboostingclassifier__max_iter': 100, 'histgradientboostingclassifier__max_depth': 6, 'histgradientboostingclassifier__learning_rate': 0.1}\n",
      "[RUN] HistGradientBoosting / smote | n_iter=12 | cv=3 | use_smote=True\n",
      "Fitting 3 folds for each of 8 candidates, totalling 24 fits\n",
      "[DONE] HistGradientBoosting/smote | CV AUC=0.8628 | best_params={'histgradientboostingclassifier__max_iter': 200, 'histgradientboostingclassifier__max_depth': 6, 'histgradientboostingclassifier__learning_rate': 0.1}\n",
      "[INFO] Training model 'GradientBoosting' | speed_mode=balanced | search_method=random\n",
      "[RUN] GradientBoosting / no_smote | n_iter=12 | cv=3 | use_smote=False\n",
      "Fitting 3 folds for each of 8 candidates, totalling 24 fits\n",
      "[DONE] GradientBoosting/no_smote | CV AUC=0.8710 | best_params={'gradientboostingclassifier__n_estimators': 200, 'gradientboostingclassifier__max_depth': 5, 'gradientboostingclassifier__learning_rate': 0.1}\n",
      "[RUN] GradientBoosting / smote | n_iter=12 | cv=3 | use_smote=True\n",
      "Fitting 3 folds for each of 8 candidates, totalling 24 fits\n",
      "[DONE] GradientBoosting/smote | CV AUC=0.8626 | best_params={'gradientboostingclassifier__n_estimators': 200, 'gradientboostingclassifier__max_depth': 5, 'gradientboostingclassifier__learning_rate': 0.1}\n",
      "[INFO] Training model 'LogisticRegression' | speed_mode=balanced | search_method=random\n",
      "[RUN] LogisticRegression / no_smote | n_iter=12 | cv=3 | use_smote=False\n",
      "Fitting 3 folds for each of 8 candidates, totalling 24 fits\n",
      "[DONE] LogisticRegression/no_smote | CV AUC=0.8582 | best_params={'logisticregression__solver': 'liblinear', 'logisticregression__penalty': 'l1', 'logisticregression__C': 0.1}\n",
      "[RUN] LogisticRegression / smote | n_iter=12 | cv=3 | use_smote=True\n",
      "Fitting 3 folds for each of 8 candidates, totalling 24 fits\n",
      "[DONE] LogisticRegression/smote | CV AUC=0.8267 | best_params={'logisticregression__solver': 'liblinear', 'logisticregression__penalty': 'l1', 'logisticregression__C': 0.01}\n",
      "[INFO] Training model 'RandomForest' | speed_mode=balanced | search_method=random\n",
      "[RUN] RandomForest / no_smote | n_iter=12 | cv=3 | use_smote=False\n",
      "Fitting 3 folds for each of 8 candidates, totalling 24 fits\n",
      "[DONE] RandomForest/no_smote | CV AUC=0.8684 | best_params={'randomforestclassifier__n_estimators': 200, 'randomforestclassifier__min_samples_split': 5, 'randomforestclassifier__max_depth': 10}\n",
      "[RUN] RandomForest / smote | n_iter=12 | cv=3 | use_smote=True\n",
      "Fitting 3 folds for each of 8 candidates, totalling 24 fits\n",
      "[DONE] RandomForest/smote | CV AUC=0.8618 | best_params={'randomforestclassifier__n_estimators': 200, 'randomforestclassifier__min_samples_split': 5, 'randomforestclassifier__max_depth': 10}\n"
     ]
    }
   ],
   "source": [
    "# Choose top N models from df_scan\n",
    "top_n = 4\n",
    "top_models = list(df_scan.sort_values('cv_auc', ascending=False)['model'].unique()[:top_n])\n",
    "print(\"Top models (quick scan):\", top_models)\n",
    "\n",
    "pipe.speed_mode = 'balanced'\n",
    "\n",
    "for m in top_models:\n",
    "    pipe.train_model(\n",
    "        model_name=m,\n",
    "        X_train=X_train,\n",
    "        y_train=y_train,\n",
    "        run_modes=('no_smote','smote'),\n",
    "        sample_frac=1.0,\n",
    "        cv=3,\n",
    "        n_iter=12 \n",
    "    )\n"
   ]
  },
  {
   "cell_type": "markdown",
   "metadata": {},
   "source": [
    "### View refined results and compare"
   ]
  },
  {
   "cell_type": "code",
   "execution_count": null,
   "metadata": {},
   "outputs": [
    {
     "name": "stdout",
     "output_type": "stream",
     "text": [
      "\n",
      "===== All models summary =====\n",
      "\n",
      "               model      run   cv_auc                                                                                                                                             best_params  use_smote  sample_frac speed_mode\n",
      "    GradientBoosting no_smote 0.871041         {'gradientboostingclassifier__n_estimators': 200, 'gradientboostingclassifier__max_depth': 5, 'gradientboostingclassifier__learning_rate': 0.1}      False          1.0   balanced\n",
      "HistGradientBoosting no_smote 0.870995 {'histgradientboostingclassifier__max_iter': 100, 'histgradientboostingclassifier__max_depth': 6, 'histgradientboostingclassifier__learning_rate': 0.1}      False          1.0   balanced\n",
      "        RandomForest no_smote 0.868438                  {'randomforestclassifier__n_estimators': 200, 'randomforestclassifier__min_samples_split': 5, 'randomforestclassifier__max_depth': 10}      False          1.0   balanced\n",
      "HistGradientBoosting    smote 0.862774 {'histgradientboostingclassifier__max_iter': 200, 'histgradientboostingclassifier__max_depth': 6, 'histgradientboostingclassifier__learning_rate': 0.1}       True          1.0   balanced\n",
      "    GradientBoosting    smote 0.862620         {'gradientboostingclassifier__n_estimators': 200, 'gradientboostingclassifier__max_depth': 5, 'gradientboostingclassifier__learning_rate': 0.1}       True          1.0   balanced\n",
      "        RandomForest    smote 0.861809                  {'randomforestclassifier__n_estimators': 200, 'randomforestclassifier__min_samples_split': 5, 'randomforestclassifier__max_depth': 10}       True          1.0   balanced\n",
      "  LogisticRegression no_smote 0.858230                                          {'logisticregression__solver': 'liblinear', 'logisticregression__penalty': 'l1', 'logisticregression__C': 0.1}      False          1.0   balanced\n",
      "  LogisticRegression    smote 0.826750                                         {'logisticregression__solver': 'liblinear', 'logisticregression__penalty': 'l1', 'logisticregression__C': 0.01}       True          1.0   balanced\n",
      "                 SVM no_smote 0.813492                                                                                                                                  {'linearsvc__C': 0.01}      False          0.3       fast\n",
      "             Bagging no_smote 0.786260                                  {'baggingclassifier__n_estimators': 10, 'baggingclassifier__max_samples': 0.5, 'baggingclassifier__max_features': 0.5}      False          0.3       fast\n",
      "                 KNN no_smote 0.561623                                      {'kneighborsclassifier__weights': 'uniform', 'kneighborsclassifier__p': 1, 'kneighborsclassifier__n_neighbors': 3}      False          0.3       fast\n",
      "\n",
      "\n",
      "Saved summary CSV to: models/refined_summary.csv\n"
     ]
    },
    {
     "data": {
      "text/plain": [
       "<Figure size 1000x600 with 0 Axes>"
      ]
     },
     "metadata": {},
     "output_type": "display_data"
    },
    {
     "data": {
      "image/png": "[encoded data removed]",
      "text/plain": [
       "<Figure size 1000x600 with 1 Axes>"
      ]
     },
     "metadata": {},
     "output_type": "display_data"
    },
    {
     "name": "stdout",
     "output_type": "stream",
     "text": [
      "Saved CV AUC barplot to: models/cv_auc_by_model.png\n"
     ]
    },
    {
     "data": {
      "text/plain": [
       "'models/cv_auc_by_model.png'"
      ]
     },
     "execution_count": 10,
     "metadata": {},
     "output_type": "execute_result"
    }
   ],
   "source": [
    "# Show updated summary and plot\n",
    "df_refined = rv.render_all_models_report(pipe, sort_by='cv_auc', ascending=False, print_table=True)\n",
    "rv.save_summary_csv(pipe, \"models/refined_summary.csv\")\n",
    "rv.plot_cv_auc_bar(pipe, save_dir=\"models\")\n"
   ]
  },
  {
   "cell_type": "markdown",
   "metadata": {},
   "source": [
    "## 5. Final thorough runs for 2 winners"
   ]
  },
  {
   "cell_type": "code",
   "execution_count": null,
   "metadata": {},
   "outputs": [
    {
     "name": "stdout",
     "output_type": "stream",
     "text": [
      "[INFO] Training model 'GradientBoosting' | speed_mode=thorough | search_method=grid\n",
      "[RUN] GradientBoosting / no_smote | n_iter=30 | cv=4 | use_smote=False\n",
      "Fitting 4 folds for each of 8 candidates, totalling 32 fits\n",
      "[DONE] GradientBoosting/no_smote | CV AUC=0.8715 | best_params={'gradientboostingclassifier__learning_rate': 0.1, 'gradientboostingclassifier__max_depth': 5, 'gradientboostingclassifier__n_estimators': 200}\n",
      "[RUN] GradientBoosting / smote | n_iter=30 | cv=4 | use_smote=True\n",
      "Fitting 4 folds for each of 8 candidates, totalling 32 fits\n",
      "[DONE] GradientBoosting/smote | CV AUC=0.8635 | best_params={'gradientboostingclassifier__learning_rate': 0.1, 'gradientboostingclassifier__max_depth': 5, 'gradientboostingclassifier__n_estimators': 200}\n",
      "Saved: models/GradientBoosting_best_no_smote.joblib\n",
      "Saved GradientBoosting (no_smote) → models/GradientBoosting_best_no_smote.joblib\n",
      "Saved: models/GradientBoosting_best_smote.joblib\n",
      "Saved GradientBoosting (smote) → models/GradientBoosting_best_smote.joblib\n",
      "[INFO] Training model 'HistGradientBoosting' | speed_mode=thorough | search_method=grid\n",
      "[RUN] HistGradientBoosting / no_smote | n_iter=30 | cv=4 | use_smote=False\n",
      "Fitting 4 folds for each of 12 candidates, totalling 48 fits\n",
      "[DONE] HistGradientBoosting/no_smote | CV AUC=0.8722 | best_params={'histgradientboostingclassifier__learning_rate': 0.1, 'histgradientboostingclassifier__max_depth': None, 'histgradientboostingclassifier__max_iter': 200}\n",
      "[RUN] HistGradientBoosting / smote | n_iter=30 | cv=4 | use_smote=True\n",
      "Fitting 4 folds for each of 12 candidates, totalling 48 fits\n",
      "[DONE] HistGradientBoosting/smote | CV AUC=0.8657 | best_params={'histgradientboostingclassifier__learning_rate': 0.1, 'histgradientboostingclassifier__max_depth': None, 'histgradientboostingclassifier__max_iter': 200}\n",
      "Saved: models/HistGradientBoosting_best_no_smote.joblib\n",
      "Saved HistGradientBoosting (no_smote) → models/HistGradientBoosting_best_no_smote.joblib\n",
      "Saved: models/HistGradientBoosting_best_smote.joblib\n",
      "Saved HistGradientBoosting (smote) → models/HistGradientBoosting_best_smote.joblib\n"
     ]
    }
   ],
   "source": [
    "final_models = list(\n",
    "    df_refined.sort_values('cv_auc', ascending=False)['model'].unique()[:2]\n",
    ")\n",
    "\n",
    "pipe.speed_mode = 'thorough'\n",
    "\n",
    "for m in final_models:\n",
    "    pipe.train_model(\n",
    "        model_name=m,\n",
    "        X_train=X_train,\n",
    "        y_train=y_train,\n",
    "        run_modes=('no_smote', 'smote'),\n",
    "        sample_frac=1.0,\n",
    "        cv=4,\n",
    "        n_iter=30,\n",
    "        search_method='grid'\n",
    "    )\n",
    "\n",
    "    runs = pipe.models[m]\n",
    "    for run_key, run_data in runs.items():\n",
    "        best_estimator = run_data['best_estimator']\n",
    "        path = f\"models/{m}_best_{run_key}.joblib\"\n",
    "        pipe.save_trained_model(m, path=path, use_smote=(run_key == 'smote'))\n",
    "        print(f\"Saved {m} ({run_key}) → {path}\")"
   ]
  },
  {
   "cell_type": "code",
   "execution_count": 2,
   "metadata": {},
   "outputs": [],
   "source": [
    "import joblib"
   ]
  },
  {
   "cell_type": "code",
   "execution_count": 3,
   "metadata": {},
   "outputs": [],
   "source": [
    "best_models = []\n",
    "\n",
    "for path in [\n",
    "    \"models/HistGradientBoosting_best_smote.joblib\",\n",
    "    \"models/GradientBoosting_best_smote.joblib\",\n",
    "    \"models/HistGradientBoosting_best_no_smote.joblib\",\n",
    "    \"models/GradientBoosting_best_no_smote.joblib\",\n",
    "]:\n",
    "    best_models.append(joblib.load(path))"
   ]
  },
  {
   "cell_type": "code",
   "execution_count": 9,
   "metadata": {},
   "outputs": [],
   "source": [
    "import numpy as np\n",
    "\n",
    "X_test = test_df\n",
    "X_test= X_test.drop('SeriousDlqin2yrs', axis=1)\n",
    "\n",
    "preds = []\n",
    "for model in best_models:\n",
    "    p = model.predict_proba(X_test)[:, 1]\n",
    "    preds.append(p)\n",
    "\n",
    "preds = np.vstack(preds)"
   ]
  },
  {
   "cell_type": "code",
   "execution_count": 10,
   "metadata": {},
   "outputs": [],
   "source": [
    "import os\n",
    "PROJECT_ROOT = os.path.abspath(os.path.join(os.getcwd(), os.pardir))\n",
    "SUBMISSION_DIR = os.path.join(PROJECT_ROOT, \"data\", \"submissions\")\n",
    "os.makedirs(SUBMISSION_DIR, exist_ok=True)"
   ]
  },
  {
   "cell_type": "code",
   "execution_count": 12,
   "metadata": {},
   "outputs": [],
   "source": [
    "submission_base = pd.DataFrame({'Id': X_test.index})\n",
    "\n",
    "models = [\n",
    "    \"HistGradientBoosting_smote\",\n",
    "    \"GradientBoosting_smote\",\n",
    "    \"HistGradientBoosting_no_smote\",\n",
    "    \"GradientBoosting_no_smote\",\n",
    "]\n",
    "for i, p in enumerate(preds, start=1):\n",
    "    df_sub = submission_base.copy()\n",
    "    df_sub['Probability'] = p\n",
    "    df_sub['Id'] = df_sub['Id'] + 1\n",
    "    df_sub_path = os.path.join(SUBMISSION_DIR, f\"submission_{models[i - 1]}.csv\")\n",
    "    df_sub.to_csv(df_sub_path, index=False)"
   ]
  }
 ],
 "metadata": {
  "kernelspec": {
   "display_name": ".venv",
   "language": "python",
   "name": "python3"
  },
  "language_info": {
   "codemirror_mode": {
    "name": "ipython",
    "version": 3
   },
   "file_extension": ".py",
   "mimetype": "text/x-python",
   "name": "python",
   "nbconvert_exporter": "python",
   "pygments_lexer": "ipython3",
   "version": "3.13.4"
  }
 },
 "nbformat": 4,
 "nbformat_minor": 2
}
